{
  "nbformat": 4,
  "nbformat_minor": 0,
  "metadata": {
    "colab": {
      "provenance": [],
      "toc_visible": true,
      "authorship_tag": "ABX9TyOK+M4yo+HYRAmj2to+wXWv",
      "include_colab_link": true
    },
    "kernelspec": {
      "name": "python3",
      "display_name": "Python 3"
    },
    "language_info": {
      "name": "python"
    }
  },
  "cells": [
    {
      "cell_type": "markdown",
      "metadata": {
        "id": "view-in-github",
        "colab_type": "text"
      },
      "source": [
        "<a href=\"https://colab.research.google.com/github/sahilvr03/Agentic-Ai-Fundamentels./blob/main/Gemini_live_Api_Starter.ipynb\" target=\"_parent\"><img src=\"https://colab.research.google.com/assets/colab-badge.svg\" alt=\"Open In Colab\"/></a>"
      ]
    },
    {
      "cell_type": "code",
      "execution_count": null,
      "metadata": {
        "colab": {
          "base_uri": "https://localhost:8080/"
        },
        "id": "hVzkEkpvRpwu",
        "outputId": "8c0dfaf3-e22c-4108-bd45-c291c9d0aaba"
      },
      "outputs": [
        {
          "output_type": "stream",
          "name": "stdout",
          "text": [
            "\u001b[?25l   \u001b[90m━━━━━━━━━━━━━━━━━━━━━━━━━━━━━━━━━━━━━━━━\u001b[0m \u001b[32m0.0/130.7 kB\u001b[0m \u001b[31m?\u001b[0m eta \u001b[36m-:--:--\u001b[0m\r\u001b[2K   \u001b[91m━━━━━━━━━━━━━━━━━━━━━━━━━━━━━━━━━━━━━\u001b[0m\u001b[91m╸\u001b[0m\u001b[90m━━\u001b[0m \u001b[32m122.9/130.7 kB\u001b[0m \u001b[31m4.8 MB/s\u001b[0m eta \u001b[36m0:00:01\u001b[0m\r\u001b[2K   \u001b[90m━━━━━━━━━━━━━━━━━━━━━━━━━━━━━━━━━━━━━━━━\u001b[0m \u001b[32m130.7/130.7 kB\u001b[0m \u001b[31m2.8 MB/s\u001b[0m eta \u001b[36m0:00:00\u001b[0m\n",
            "\u001b[?25h"
          ]
        }
      ],
      "source": [
        "!pip install -U -q google-genai"
      ]
    },
    {
      "cell_type": "code",
      "source": [
        "from google.colab import userdata\n",
        "import os\n",
        "os.environ[\"GOOGLE_API_KEY_1\"] = userdata.get('GOOGLE_API_KEY')\n"
      ],
      "metadata": {
        "id": "ZmTya75pSJUN"
      },
      "execution_count": null,
      "outputs": []
    },
    {
      "cell_type": "code",
      "source": [
        "from google import genai\n"
      ],
      "metadata": {
        "id": "UiXL6iKnSefr"
      },
      "execution_count": null,
      "outputs": []
    },
    {
      "cell_type": "code",
      "source": [
        "from google import genai\n",
        "client = genai.Client(api_key=os.environ[\"GOOGLE_API_KEY_1\"])"
      ],
      "metadata": {
        "id": "7hJsKVReSsLR"
      },
      "execution_count": null,
      "outputs": []
    },
    {
      "cell_type": "code",
      "source": [
        "MODEL: str =\"gemini-2.0-flash-exp\""
      ],
      "metadata": {
        "id": "o9k-DYroT9nD"
      },
      "execution_count": null,
      "outputs": []
    },
    {
      "cell_type": "code",
      "source": [
        "response= client.models.generate_content(\n",
        "    model=MODEL,\n",
        "    contents='how ai works'\n",
        ")\n",
        "\n",
        "print(response.text)"
      ],
      "metadata": {
        "colab": {
          "base_uri": "https://localhost:8080/"
        },
        "id": "1pBEVUd6UJz7",
        "outputId": "24961a94-3262-4feb-e779-af4329ed9f6b",
        "collapsed": true
      },
      "execution_count": null,
      "outputs": [
        {
          "output_type": "stream",
          "name": "stdout",
          "text": [
            "Okay, let's break down how AI works. It's a broad field, so I'll give you a high-level overview, then we can dive into specific areas if you'd like.\n",
            "\n",
            "**Core Idea: Mimicking Human Intelligence**\n",
            "\n",
            "At its heart, Artificial Intelligence (AI) aims to create machines that can perform tasks that typically require human intelligence. These tasks include:\n",
            "\n",
            "*   **Learning:** Acquiring information and rules for using it.\n",
            "*   **Reasoning:** Using rules to reach conclusions.\n",
            "*   **Problem-solving:** Discovering and implementing solutions.\n",
            "*   **Perception:** Interpreting sensory input (e.g., seeing, hearing).\n",
            "*   **Language Understanding:** Comprehending and generating human language.\n",
            "\n",
            "**Key Components and Techniques**\n",
            "\n",
            "AI achieves these capabilities through a combination of algorithms, data, and computing power. Here's a breakdown of the key components:\n",
            "\n",
            "1.  **Data:**\n",
            "\n",
            "    *   AI systems, especially those based on Machine Learning, require vast amounts of data to learn from. This data can be in various forms:\n",
            "        *   **Structured Data:** Organized data in tables or databases (e.g., customer information, sales transactions).\n",
            "        *   **Unstructured Data:** Data that doesn't fit neatly into tables (e.g., text documents, images, audio files, video).\n",
            "    *   **Data Quality:** The accuracy, completeness, and consistency of the data are crucial for AI performance. \"Garbage in, garbage out\" applies strongly to AI.\n",
            "    *   **Data Preprocessing:** Cleaning, transforming, and preparing the data for use in AI models.\n",
            "\n",
            "2.  **Algorithms:**\n",
            "\n",
            "    *   Algorithms are sets of rules or instructions that AI systems follow to process data and make decisions. Different types of algorithms are suited for different tasks. Here are some major categories:\n",
            "\n",
            "        *   **Machine Learning (ML):**  The most common type of AI. ML algorithms learn patterns from data without being explicitly programmed.\n",
            "\n",
            "            *   **Supervised Learning:** The algorithm is trained on labeled data (input data paired with the correct output).  Examples:\n",
            "                *   *Classification:* Categorizing data into predefined classes (e.g., spam detection, image recognition).\n",
            "                *   *Regression:* Predicting a continuous value (e.g., predicting house prices, forecasting sales).\n",
            "                *   Common algorithms: Linear Regression, Logistic Regression, Support Vector Machines (SVM), Decision Trees, Random Forests.\n",
            "            *   **Unsupervised Learning:** The algorithm is trained on unlabeled data and tries to discover patterns or structures.  Examples:\n",
            "                *   *Clustering:* Grouping similar data points together (e.g., customer segmentation).\n",
            "                *   *Dimensionality Reduction:* Reducing the number of variables while preserving essential information (e.g., for visualization or faster processing).\n",
            "                *   Common algorithms: K-Means Clustering, Principal Component Analysis (PCA).\n",
            "            *   **Reinforcement Learning:** The algorithm learns by interacting with an environment and receiving rewards or penalties for its actions.  It aims to maximize cumulative reward.  Examples:\n",
            "                *   *Game playing:* Training AI to play games like Go or chess.\n",
            "                *   *Robotics:* Training robots to perform tasks in the real world.\n",
            "                *   Common algorithms: Q-Learning, Deep Q-Networks (DQN).\n",
            "\n",
            "        *   **Deep Learning (DL):** A subfield of ML that uses artificial neural networks with many layers (hence \"deep\") to analyze data. DL excels at complex tasks like image recognition, natural language processing, and speech recognition.\n",
            "            *   DL requires very large datasets and significant computing power.\n",
            "            *   Common architectures: Convolutional Neural Networks (CNNs), Recurrent Neural Networks (RNNs), Transformers.\n",
            "\n",
            "        *   **Rule-Based Systems (Expert Systems):**  Use a set of predefined rules to make decisions.  These rules are typically created by human experts.\n",
            "            *   Example: Medical diagnosis systems that use rules based on symptoms and test results.\n",
            "            *   Less flexible than ML-based systems, as they rely on explicit rules.\n",
            "\n",
            "        *   **Natural Language Processing (NLP):** Focuses on enabling computers to understand, interpret, and generate human language.\n",
            "            *   Tasks:  Text summarization, sentiment analysis, machine translation, chatbot development.\n",
            "            *   Algorithms:  Hidden Markov Models (HMMs), Recurrent Neural Networks (RNNs), Transformers (e.g., BERT, GPT).\n",
            "\n",
            "        *   **Computer Vision:** Enables computers to \"see\" and interpret images and videos.\n",
            "            *   Tasks: Object detection, image classification, facial recognition, image segmentation.\n",
            "            *   Algorithms: Convolutional Neural Networks (CNNs).\n",
            "\n",
            "3.  **Computing Power:**\n",
            "\n",
            "    *   AI, especially Deep Learning, often requires significant computing power.\n",
            "    *   **GPUs (Graphics Processing Units):**  Originally designed for graphics processing, GPUs are now widely used for AI due to their ability to perform parallel computations.\n",
            "    *   **Cloud Computing:**  Cloud platforms provide access to large-scale computing resources, making AI development and deployment more accessible.\n",
            "    *   **Specialized AI Hardware:** Companies are developing specialized hardware designed specifically for AI workloads (e.g., TPUs - Tensor Processing Units).\n",
            "\n",
            "**The AI Development Process (Simplified)**\n",
            "\n",
            "1.  **Define the Problem:** Clearly identify the task you want the AI system to perform.\n",
            "2.  **Gather Data:** Collect and prepare the data needed to train the AI model.\n",
            "3.  **Choose an Algorithm:** Select the appropriate algorithm based on the problem and the available data.\n",
            "4.  **Train the Model:** Use the data to train the algorithm, adjusting its parameters to improve performance.\n",
            "5.  **Evaluate the Model:** Test the model on unseen data to assess its accuracy and generalization ability.\n",
            "6.  **Deploy the Model:** Integrate the trained model into a system or application.\n",
            "7.  **Monitor and Retrain:** Continuously monitor the model's performance and retrain it with new data to maintain accuracy.\n",
            "\n",
            "**Examples of AI in Action**\n",
            "\n",
            "*   **Recommendation Systems:**  Netflix, Amazon, Spotify use AI to suggest movies, products, or music based on your preferences.\n",
            "*   **Chatbots:**  Customer service chatbots that answer common questions.\n",
            "*   **Self-Driving Cars:**  AI-powered systems that can navigate and drive vehicles autonomously.\n",
            "*   **Medical Diagnosis:**  AI systems that can assist doctors in diagnosing diseases.\n",
            "*   **Fraud Detection:**  AI algorithms that identify fraudulent transactions.\n",
            "*   **Spam Filtering:**  AI systems that filter unwanted emails.\n",
            "\n",
            "**Important Considerations**\n",
            "\n",
            "*   **Bias:** AI models can inherit biases from the data they are trained on, leading to unfair or discriminatory outcomes.  It's crucial to address bias in data and algorithms.\n",
            "*   **Explainability:** Understanding how AI models make decisions is important for trust and accountability.  Explainable AI (XAI) techniques aim to make AI models more transparent.\n",
            "*   **Ethics:**  The ethical implications of AI are a growing concern, including issues related to privacy, security, and job displacement.\n",
            "\n",
            "**In Summary**\n",
            "\n",
            "AI is about creating machines that can perform tasks that typically require human intelligence. It involves using algorithms, data, and computing power to enable systems to learn, reason, solve problems, perceive, and understand language.  Machine learning, especially deep learning, is a dominant approach in modern AI.  The field is constantly evolving, with new algorithms, techniques, and applications emerging regularly.\n",
            "\n"
          ]
        }
      ]
    },
    {
      "cell_type": "code",
      "source": [],
      "metadata": {
        "id": "FgZcN9dbUx_C"
      },
      "execution_count": null,
      "outputs": []
    }
  ]
}